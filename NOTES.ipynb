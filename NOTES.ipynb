{
 "cells": [
  {
   "attachments": {},
   "cell_type": "markdown",
   "metadata": {},
   "source": [
    "# Before you begin!\n",
    "\n",
    "* I would advise to get some university-level C programming and basic-DSA experience before getting into this.\n",
    "\n",
    "* Take any 1 hour crash course/tutorial of python from YouTube. My suggestion: Apna College.\n",
    "\n",
    "* Link for the 6 hours python beginners tutorial by Mosh: [Click here](https://www.youtube.com/watch?v=_uQrJ0TkZlc&t=9032s). This video is the basis of these notes.\n",
    "\n",
    "* If you wanna watch the tutorial, watch only the first 4 hours of the tutorial. In the rest of the tutorial, he gives a walkthrough of some projects in python, which is not relevant for Data Science/Machine Learning.\n",
    "\n",
    "* You might need to restart the kernal before executing a different code cell of this Jupyter Notebook to flush the variables from old cells from the memory."
   ]
  },
  {
   "cell_type": "markdown",
   "metadata": {},
   "source": [
    "---"
   ]
  },
  {
   "cell_type": "markdown",
   "metadata": {},
   "source": [
    "# Multiplying Strings"
   ]
  },
  {
   "cell_type": "code",
   "execution_count": null,
   "metadata": {},
   "outputs": [],
   "source": [
    "print(\"*\" * 10)"
   ]
  },
  {
   "cell_type": "markdown",
   "metadata": {},
   "source": [
    "* In above code block, `\"*\" * 10` is called as an **expression**."
   ]
  },
  {
   "cell_type": "markdown",
   "metadata": {},
   "source": [
    "# Boolean datatype"
   ]
  },
  {
   "cell_type": "code",
   "execution_count": null,
   "metadata": {},
   "outputs": [],
   "source": [
    "is_published = True"
   ]
  },
  {
   "cell_type": "markdown",
   "metadata": {},
   "source": [
    "# Taking input"
   ]
  },
  {
   "cell_type": "code",
   "execution_count": null,
   "metadata": {},
   "outputs": [],
   "source": [
    "name = input(\"Enter name: \")"
   ]
  },
  {
   "cell_type": "markdown",
   "metadata": {},
   "source": [
    "* `input()` returns `string`."
   ]
  },
  {
   "cell_type": "markdown",
   "metadata": {},
   "source": [
    "# Predict output of following code:"
   ]
  },
  {
   "cell_type": "code",
   "execution_count": null,
   "metadata": {},
   "outputs": [],
   "source": [
    "str1 = \"Hello\"\n",
    "str2 = \"World\"\n",
    "print(str1 + str2)\n",
    "print(str1, str2)"
   ]
  },
  {
   "cell_type": "markdown",
   "metadata": {},
   "source": [
    "# Naming conventions\n",
    "\n",
    "* Use `snake_case` for naming variables, functions and modules.\n",
    "\n",
    "* Use `PascalCase` for naming classes.\n",
    "\n",
    "* PEP8 --> Python Enhancement Proposal --> best practices for formatting python code"
   ]
  },
  {
   "cell_type": "markdown",
   "metadata": {},
   "source": [
    "# Typecasting"
   ]
  },
  {
   "cell_type": "code",
   "execution_count": null,
   "metadata": {},
   "outputs": [],
   "source": [
    "birth_year = input(\"Enter birth year: \")\n",
    "age = 2023 - int(birth_year)\n",
    "print(age)"
   ]
  },
  {
   "cell_type": "markdown",
   "metadata": {},
   "source": [
    "# `type()` operator"
   ]
  },
  {
   "cell_type": "code",
   "execution_count": null,
   "metadata": {},
   "outputs": [],
   "source": [
    "print(type(age))"
   ]
  },
  {
   "cell_type": "markdown",
   "metadata": {},
   "source": [
    "# Nesting quotes\n",
    "\n",
    "* single quotes inside 2 double quotes: ✅\n",
    "\n",
    "* double inside 2 single: ✅\n",
    "\n",
    "* single inside 2 single: ❎\n",
    "\n",
    "* double inside 2 double: ❎"
   ]
  },
  {
   "cell_type": "markdown",
   "metadata": {},
   "source": [
    "# Multiline strings (`\"\"\"` or `'''`)\n",
    "\n",
    "Predict o/p of the following code:"
   ]
  },
  {
   "cell_type": "code",
   "execution_count": null,
   "metadata": {},
   "outputs": [],
   "source": [
    "print(\"Started execution. Expecting a blank line immediately after this line.\")\n",
    "text = '''\n",
    "Hello sir/madam,\n",
    "\n",
    "    This is an indented line.\n",
    "        This is double indented.\n",
    "    Back to single indentation.\n",
    "     This is some weird indentation using space.\n",
    "      This one too.\n",
    "     This one again\n",
    "    Back to single indentation.\n",
    "Back to normal.\n",
    "\n",
    "Thank you.\n",
    "'''\n",
    "print(text)\n",
    "print(\"Ended execution\")"
   ]
  },
  {
   "cell_type": "markdown",
   "metadata": {},
   "source": [
    "# Strings\n",
    "\n",
    "* Strings are zero-indexed.\n",
    "\n",
    "* can use square brackets\n",
    "\n",
    "* negative indexing in strings: indexing from end of string\n",
    "\n",
    "    * Eg: `text[-1]` means last character of `text`"
   ]
  },
  {
   "cell_type": "markdown",
   "metadata": {},
   "source": [
    "# Extracting substrings using square brackets\n",
    "\n",
    "Predict output of the following:"
   ]
  },
  {
   "cell_type": "code",
   "execution_count": null,
   "metadata": {},
   "outputs": [],
   "source": [
    "text = \"HelloWorld\"\n",
    "print(text[0:])\n",
    "print(text[5:])\n",
    "print(text[:5])\n",
    "print(text[3:6])  # index=3 to index=(6-1) is extracted\n",
    "print(text[1:8])  # index=1 to index=(8-1) is extracted\n",
    "print(text[0:-2])  # this is a little weird, let this sink in, index=0 to index=(-2-1) is extracted\n",
    "print(text[:-3])  # index=0 to index=(-3-1)\n",
    "print(text[:])  # used for copying a string (even list/array, not sure about this tho) to another variable"
   ]
  },
  {
   "cell_type": "markdown",
   "metadata": {},
   "source": [
    "# Formatted strings\n",
    "\n",
    "* Use `{}` inside `f''` or `f\"\"`. You may also use the `format()` method.\n",
    "\n",
    "* Predict output:"
   ]
  },
  {
   "cell_type": "code",
   "execution_count": null,
   "metadata": {},
   "outputs": [],
   "source": [
    "first_name = \"Aum\"\n",
    "last_name = \"Patil\"\n",
    "fav_color = \"Red\"\n",
    "\n",
    "message1 = f'My name is {first_name} {last_name} and my favourite color is {fav_color}.'  # single quote\n",
    "message2 = f\"My name is {first_name} {last_name} and my favourite color is {fav_color}.\"  # double quote\n",
    "message3 = \"My name is {} {} and my favourite color is {}.\".format(first_name, last_name, fav_color)\n",
    "print(message1)\n",
    "print(message2)\n",
    "print(message3)"
   ]
  },
  {
   "cell_type": "markdown",
   "metadata": {},
   "source": [
    "# The `len()` function\n",
    "\n",
    "* `len()` is a general purpose function. It can be used on various iterables like `string`, `list`, `tuple`, etc."
   ]
  },
  {
   "cell_type": "markdown",
   "metadata": {},
   "source": [
    "# \"Function\" vs. \"method\"\n",
    "\n",
    "* When a **function** is defined inside a **class**, it is called a **method**.\n",
    "\n",
    "* You can say that `len()` is a **function**, but `upper()` is a **method**, since the latter is restricted to the `string` class.\n",
    "\n",
    "    * However, internally, `len()` calls a **magic method**, `__len__()` which belongs to a **class**, but that is out of the scope of our discussion."
   ]
  },
  {
   "cell_type": "markdown",
   "metadata": {},
   "source": [
    "---"
   ]
  },
  {
   "cell_type": "markdown",
   "metadata": {},
   "source": [
    "# String methods\n",
    "\n",
    "* Length of string: `len()`\n",
    "\n",
    "* Uppercase: `upper()`\n",
    "\n",
    "* Lowercase: `lower()`\n",
    "\n",
    "* Searching for a substring: `find()`\n",
    "\n",
    "* Replace a substring: `replace()`\n",
    "\n",
    "* Knowing if substring is present in string: `in` operator\n",
    "\n",
    "* Splitting a string into list using delimiter: `split()`"
   ]
  },
  {
   "cell_type": "markdown",
   "metadata": {},
   "source": [
    "### NOTE:\n",
    "\n",
    "* All of the above methods do NOT modify the original string.\n",
    "\n",
    "* All of the above methods are case sensitive."
   ]
  },
  {
   "cell_type": "markdown",
   "metadata": {},
   "source": [
    "---"
   ]
  },
  {
   "cell_type": "markdown",
   "metadata": {},
   "source": [
    "# Arithmetic operators\n",
    "\n",
    "Predict output:"
   ]
  },
  {
   "cell_type": "code",
   "execution_count": null,
   "metadata": {},
   "outputs": [],
   "source": [
    "print(10 / 3)  # division\n",
    "print(10 // 3)  # obtaining quotient\n",
    "print(int(10 / 3))  # alternate way of doing the above\n",
    "print(10 % 3)  # obtaining remainder\n",
    "print(10 ** 3)  # exponent operator\n",
    "print('----------------------------------------------')\n",
    "x = 10\n",
    "x += 3 # aka augmented assignment operator aka enhanced assignment operator\n",
    "print(x)"
   ]
  },
  {
   "cell_type": "markdown",
   "metadata": {},
   "source": [
    "General arithmetic operator precedence (BODMAS):\n",
    "\n",
    "* Paranthesis `()`\n",
    "\n",
    "* Exponentiation `**`\n",
    "\n",
    "* Multiplication or division\n",
    "\n",
    "* Addition or subtraction"
   ]
  },
  {
   "cell_type": "markdown",
   "metadata": {},
   "source": [
    "---"
   ]
  },
  {
   "cell_type": "markdown",
   "metadata": {},
   "source": [
    "# Python maths functions\n",
    "\n",
    "* import a module called `math`. (`import math`)\n",
    "\n",
    "* `round()`\n",
    "\n",
    "* `abs()`\n",
    "\n",
    "* `ceil()`\n",
    "\n",
    "* `floor()`\n",
    "\n",
    "**Note**: The `math` module in python 3 is significantly different than that in python 2."
   ]
  },
  {
   "cell_type": "markdown",
   "metadata": {},
   "source": [
    "---"
   ]
  },
  {
   "cell_type": "markdown",
   "metadata": {},
   "source": [
    "# Practice: `if`, `elif` and `else`\n",
    "\n",
    "Predict output:"
   ]
  },
  {
   "cell_type": "code",
   "execution_count": null,
   "metadata": {},
   "outputs": [],
   "source": [
    "is_hot = False\n",
    "is_cold = True\n",
    "\n",
    "if is_hot:\n",
    "    print(\"It's a hot day\")\n",
    "    print(\"Drink plenty of water\")\n",
    "\n",
    "elif is_cold:\n",
    "    print(\"It's a cold day\")\n",
    "    print(\"Wear warm clothes\")\n",
    "\n",
    "else:\n",
    "    print(\"It's a lovely day\")\n",
    "\n",
    "print(\"Enjoy your day\")"
   ]
  },
  {
   "cell_type": "markdown",
   "metadata": {},
   "source": [
    "---"
   ]
  },
  {
   "cell_type": "markdown",
   "metadata": {},
   "source": [
    "# (?) Doubt\n",
    "\n",
    "Why can I access `down_payment` from outside the scope?"
   ]
  },
  {
   "cell_type": "code",
   "execution_count": null,
   "metadata": {},
   "outputs": [],
   "source": [
    "price = 10000\n",
    "has_good_credit = True\n",
    "\n",
    "if has_good_credit:\n",
    "    down_payment = 0.1 * price\n",
    "else:\n",
    "    down_payment = 0.2 * price\n",
    "\n",
    "print(f\"Down payment = {down_payment}\")  # displays 1000 wtf why is LEGB rule violated?"
   ]
  },
  {
   "attachments": {},
   "cell_type": "markdown",
   "metadata": {},
   "source": [
    "**Solution**: This is a design feature in python. Somewhere in this file, I touch upon that. For now, be patient, and continue reading."
   ]
  },
  {
   "attachments": {},
   "cell_type": "markdown",
   "metadata": {},
   "source": [
    "# LEGB rule in python\n",
    "\n",
    "Variable scoping priority:\n",
    "\n",
    "1. local variable\n",
    "\n",
    "2. enclosing variable (i.e., variable declared in the outer function/class)\n",
    "\n",
    "3. global variable\n",
    "\n",
    "4. built-in varaible\n",
    "\n",
    "I still need to read more about this rule, and where this rule is applied.\n",
    "\n",
    "You can read more about namespaces here: https://realpython.com/python-namespaces-scope/"
   ]
  },
  {
   "cell_type": "markdown",
   "metadata": {},
   "source": [
    "---"
   ]
  },
  {
   "cell_type": "markdown",
   "metadata": {},
   "source": [
    "# Conditional operators\n",
    "\n",
    "* 3 operators: `and`, `or` `not`\n",
    "\n",
    "* Predict output:"
   ]
  },
  {
   "cell_type": "code",
   "execution_count": null,
   "metadata": {},
   "outputs": [],
   "source": [
    "has_good_credit = True\n",
    "has_criminal_record = False\n",
    "\n",
    "if has_good_credit and not has_criminal_record:\n",
    "    print(\"Eligible for loan\")\n",
    "\n",
    "else:\n",
    "    print(\"Not eligible for loan\")"
   ]
  },
  {
   "cell_type": "markdown",
   "metadata": {},
   "source": [
    "* You can avoid ambiguities using paranthesis:"
   ]
  },
  {
   "cell_type": "code",
   "execution_count": null,
   "metadata": {},
   "outputs": [],
   "source": [
    "# Note that you cannot run this code block.\n",
    "\n",
    "not a and b or c # ambiguous\n",
    "(not a) and (b or c) # ambiguity removed"
   ]
  },
  {
   "cell_type": "markdown",
   "metadata": {},
   "source": [
    "---"
   ]
  },
  {
   "cell_type": "markdown",
   "metadata": {},
   "source": [
    "* Increment (`x++`) and decrement (`x--`) operators do not work in python.\n",
    "Use `x += 1` or simply `x = x + 1`.\n",
    "\n",
    "* Loop control:\n",
    "\n",
    "    * `break` --> skip all further iterations **from this point** on and break out of the loop.\n",
    "\n",
    "    * `continue` --> skip current iteration **from this point** on and directly move to the next iteration.\n",
    "\n",
    "* Just like `if` can have an (optional) `else` part, similarly, in python, a `while` loop or a `for` loop can also have an `else` part.\n",
    "\n",
    "* This `else` part is executed **ONLY** *AFTER* the `while`/`for` loop has finished it's complete execution.\n",
    "\n",
    "* Means, the `else` is executed ONLY when **loop condition** becomes False. If loop ends due to a `break` before the loop condition becomes False, then this else part is **NOT** executed."
   ]
  },
  {
   "cell_type": "markdown",
   "metadata": {},
   "source": [
    "---"
   ]
  },
  {
   "cell_type": "markdown",
   "metadata": {},
   "source": [
    "# Practice: guessing program\n",
    "\n",
    "Run this guessing program without looking at the code and try to build it yourself:"
   ]
  },
  {
   "cell_type": "code",
   "execution_count": null,
   "metadata": {},
   "outputs": [],
   "source": [
    "secret_number = 9\n",
    "guess_count = 0\n",
    "guess_limit = 3\n",
    "while guess_count < guess_limit:\n",
    "    guess = int(input(\"Guess a number from 1-9: \"))\n",
    "    guess_count += 1\n",
    "    if guess == secret_number:\n",
    "        print(\"You won!\")\n",
    "        break\n",
    "else:\n",
    "    print(\"Sorry, you only had 3 guesses!\")"
   ]
  },
  {
   "cell_type": "markdown",
   "metadata": {},
   "source": [
    "# Practice: car controller program\n",
    "\n",
    "Run this car controller program without looking at the code and try to build it yourself:"
   ]
  },
  {
   "cell_type": "code",
   "execution_count": null,
   "metadata": {},
   "outputs": [],
   "source": [
    "current_car_state = \"stopped\"\n",
    "print(\"Type 'help' to know commands.\")\n",
    "while True:\n",
    "    command = input(\">\")\n",
    "    command = command.lower()  # in case user enters command in upper case\n",
    "    if command == \"help\":\n",
    "        print(\"-----------------------------\")\n",
    "        print(\"start - to start the car\")\n",
    "        print(\"stop - to stop the car\")\n",
    "        print(\"quit - to exit the program\")\n",
    "        print(\"-----------------------------\")\n",
    "    elif command == \"start\":\n",
    "        current_car_state = \"started\"\n",
    "    elif command == \"stop\":\n",
    "        current_car_state = \"stopped\"\n",
    "    elif command == \"quit\":\n",
    "        break\n",
    "    else:\n",
    "        print(\">>>I don't understand that.\")\n",
    "    print(f\">>>Car is currently {current_car_state}.\")\n",
    "print(\"Thank you for using car program.\")"
   ]
  },
  {
   "cell_type": "markdown",
   "metadata": {},
   "source": [
    "**NOTE**: I made the car into a state machine."
   ]
  },
  {
   "cell_type": "markdown",
   "metadata": {},
   "source": [
    "---"
   ]
  },
  {
   "cell_type": "markdown",
   "metadata": {},
   "source": [
    "* `range()` is a built-in function of python which returns an iterable object of the `range` class. This object is immutable btw.\n",
    "\n",
    "* Syntax for using the `range()` function: `range(start, stop, step)` where `start`, `stop` and `step` are of type `int`.\n",
    "\n",
    "* Note that `stop` is excluded from range.\n",
    "\n",
    "Which means,\n",
    "\n",
    "```\n",
    "[start, stop)\n",
    "```"
   ]
  },
  {
   "cell_type": "markdown",
   "metadata": {},
   "source": [
    "---"
   ]
  },
  {
   "cell_type": "markdown",
   "metadata": {},
   "source": [
    "# For loops in python\n",
    "\n",
    "Try to predict the output of the following code:"
   ]
  },
  {
   "cell_type": "code",
   "execution_count": null,
   "metadata": {},
   "outputs": [],
   "source": [
    "print(\"-------------------------\")\n",
    "text = \"Python\"  # string\n",
    "for item in text:\n",
    "    print(item)\n",
    "print(\"-------------------------\")\n",
    "arr = [\"Mosh\", True, 69, \"Sarah\"]  # list\n",
    "for item in arr:\n",
    "    print(item)\n",
    "print(\"-------------------------\")\n",
    "x = range(5, 10, 2)  # range\n",
    "for item in x:\n",
    "    print(item)\n",
    "print(\"-------------------------\")"
   ]
  },
  {
   "cell_type": "markdown",
   "metadata": {},
   "source": [
    "---"
   ]
  },
  {
   "cell_type": "markdown",
   "metadata": {},
   "source": [
    "# 1D Lists\n",
    "\n",
    "Note that **slicing** (i.e., using square brackets with colons) does NOT modify the original list, but just returns a new, modified list.\n",
    "\n",
    "Try to predict output of the following code:"
   ]
  },
  {
   "cell_type": "code",
   "execution_count": null,
   "metadata": {},
   "outputs": [],
   "source": [
    "names = [\"John\", \"Bob\", \"Sarah\", \"Mosh\"]\n",
    "print(names[1], names [3]) # zero indexing\n",
    "print(names[-2]) # negative indexing to access elements from the end of the list\n",
    "print(names[2:])\n",
    "print(names[2:4]) # index=2 to index=(4-1)\n",
    "print(names[:2])\n",
    "print(names[:])\n",
    "names[0] = \"Apple\" # modifying a list\n",
    "print(names)"
   ]
  },
  {
   "cell_type": "markdown",
   "metadata": {},
   "source": [
    "# Practice: largest number in a list\n",
    "\n",
    "Try to write a program that finds the largest number in a list.\n",
    "\n",
    "Solution:"
   ]
  },
  {
   "cell_type": "code",
   "execution_count": null,
   "metadata": {},
   "outputs": [],
   "source": [
    "arr = [1, 6, 3, 7, 5, 9, 100, 10, 0]\n",
    "max_num = arr[0]\n",
    "for item in arr:\n",
    "    if item > max_num:\n",
    "        max_num = item\n",
    "    else:\n",
    "        continue\n",
    "print(\"Max = \", max_num)"
   ]
  },
  {
   "cell_type": "markdown",
   "metadata": {},
   "source": [
    "---"
   ]
  },
  {
   "cell_type": "markdown",
   "metadata": {},
   "source": [
    "# 2D Lists\n",
    "\n",
    "Try to predict the output of the following code without executing:"
   ]
  },
  {
   "cell_type": "code",
   "execution_count": null,
   "metadata": {},
   "outputs": [],
   "source": [
    "print(\"Creating 2D list: \")\n",
    "matrix = [\n",
    "    [1,2,3],\n",
    "    [4,5,6],\n",
    "    [7,8,9]\n",
    "]\n",
    "print(\"Accessing items in 2D list: \")\n",
    "print(matrix[1][2])\n",
    "print(\"Modifying items in 2D list: \")\n",
    "matrix[2][2] = 90\n",
    "print(matrix[2][2])\n",
    "print(\"Iterating over the elements in matrix: \")\n",
    "for row in matrix:\n",
    "    for item in row:\n",
    "        print(item)\n",
    "print(\"Trick to print matrix in a more visual manner: \")\n",
    "for row in matrix:\n",
    "    temporary_string = \"\"\n",
    "    for item in row:\n",
    "        temporary_string += f\"{item} \"\n",
    "    print(temporary_string)"
   ]
  },
  {
   "cell_type": "markdown",
   "metadata": {},
   "source": [
    "# Practice\n",
    "\n",
    "Write a program to input a matrix from a user and printing it into the terminal.\n",
    "\n",
    "Expected output for your reference:\n",
    "\n",
    "```\n",
    "Enter no. of rows in matrix: 2\n",
    "Enter no. of cols in matrix: 3\n",
    "Enter element: 6\n",
    "Enter element: 7\n",
    "Enter element: 8\n",
    "Enter element: 1\n",
    "Enter element: 2\n",
    "Enter element: 3\n",
    "Printing matrix:\n",
    "6 7 8\n",
    "1 2 3\n",
    "End of code\n",
    "```\n",
    "\n",
    "Solution:"
   ]
  },
  {
   "cell_type": "code",
   "execution_count": null,
   "metadata": {},
   "outputs": [],
   "source": [
    "arr = []\n",
    "n = int(input(\"Enter no. of rows in matrix: \"))\n",
    "m = int(input(\"Enter no. of cols in matrix: \"))\n",
    "for i in range(0, n):\n",
    "    arr.append([])\n",
    "    for j in range(0, m):\n",
    "        item = int(input(\"Enter element: \"))\n",
    "        arr[i].append(item)\n",
    "print(\"Printing matrix: \")\n",
    "output_string = \"\"\n",
    "for row in arr:\n",
    "    for item in row:\n",
    "        output_string = output_string + str(item) + \" \"\n",
    "    print(output_string)\n",
    "    output_string = \"\"\n",
    "print(\"End of code\")"
   ]
  },
  {
   "cell_type": "markdown",
   "metadata": {},
   "source": [
    "---"
   ]
  },
  {
   "cell_type": "markdown",
   "metadata": {},
   "source": [
    "# List methods\n",
    "\n",
    "* Insert items at the end of the list: `append()`\n",
    "\n",
    "* Insert item at a particular position: `insert()`\n",
    "\n",
    "* Remove an item by item value: `remove()`\n",
    "\n",
    "* Empty the list: `clear()`\n",
    "\n",
    "* Delete last item in list: `pop()`\n",
    "\n",
    "* Return index of first occurence of an item: `index()`\n",
    "\n",
    "    * NOTE that this method does NOT return `-1` if item is not found in list. Insead it gives error and stops the program execution.\n",
    "\n",
    "* Checking if item is present in the list: `in` operator\n",
    "\n",
    "* Counting the number of occurences of item in the list: `count()`\n",
    "\n",
    "* Sorting the list in ascending order: `sort()`\n",
    "\n",
    "* Reversing the list: `reverse()`\n",
    "\n",
    "* Returning a copy of the list: `copy()`"
   ]
  },
  {
   "cell_type": "markdown",
   "metadata": {},
   "source": [
    "---"
   ]
  },
  {
   "cell_type": "markdown",
   "metadata": {},
   "source": [
    "# Practice: lists\n",
    "\n",
    "Input a list from the user. Print all the unique numbers in the list on the terminal.\n",
    "\n",
    "Sample output for your reference:\n",
    "\n",
    "```\n",
    "List size: 5\n",
    "1th element: 7\n",
    "2th element: 8\n",
    "3th element: 7\n",
    "4th element: 3\n",
    "5th element: 3\n",
    "Removed duplicates in array: [8, 7, 3]\n",
    "```\n",
    "\n",
    "Solution:"
   ]
  },
  {
   "cell_type": "code",
   "execution_count": null,
   "metadata": {},
   "outputs": [],
   "source": [
    "def removed_duplicates(arr):\n",
    "    for item in arr:\n",
    "        while arr.count(item) > 1:\n",
    "            arr.remove(item)\n",
    "    return arr\n",
    "arr = []\n",
    "n = input(\"List size: \")\n",
    "n = int(n)\n",
    "for i in range(0, n, 1):\n",
    "    item = input(f\"{i+1}th element: \")\n",
    "    item = int(item)\n",
    "    arr.append(item)\n",
    "print(f\"Removed duplicates in array: {removed_duplicates(arr)}\")"
   ]
  },
  {
   "cell_type": "markdown",
   "metadata": {},
   "source": [
    "---"
   ]
  },
  {
   "cell_type": "markdown",
   "metadata": {},
   "source": [
    "# Tuple\n",
    "\n",
    "* it is an immutable list\n",
    "\n",
    "* there are only 2 methods for `tuple` class: `count()` and `index()`.\n",
    "\n",
    "* all other methods are **magic methods**."
   ]
  },
  {
   "cell_type": "markdown",
   "metadata": {},
   "source": [
    "# Unpacking"
   ]
  },
  {
   "cell_type": "code",
   "execution_count": null,
   "metadata": {},
   "outputs": [],
   "source": [
    "coordinates = (1, 2, 3) # creted a tuple\n",
    "x, y, z = coordinates # unpacking"
   ]
  },
  {
   "cell_type": "markdown",
   "metadata": {},
   "source": [
    "Above code block is the same as writing:"
   ]
  },
  {
   "cell_type": "code",
   "execution_count": null,
   "metadata": {},
   "outputs": [],
   "source": [
    "x = coordinates[0]\n",
    "y = coordinates[1]\n",
    "z = coordinates[2]"
   ]
  },
  {
   "cell_type": "markdown",
   "metadata": {},
   "source": [
    "This is known as unpacking and it applies to tuples and lists as well."
   ]
  },
  {
   "cell_type": "markdown",
   "metadata": {},
   "source": [
    "---"
   ]
  },
  {
   "cell_type": "markdown",
   "metadata": {},
   "source": [
    "Cheats:\n",
    "\n",
    "List --> `[]`\n",
    "\n",
    "Tuple --> `()`\n",
    "\n",
    "Dict --> `{:}`\n",
    "\n",
    "Set --> `{}`"
   ]
  },
  {
   "cell_type": "markdown",
   "metadata": {},
   "source": [
    "---"
   ]
  },
  {
   "cell_type": "markdown",
   "metadata": {},
   "source": [
    "# Dictionary\n",
    "\n",
    "* key-value pairs\n",
    "\n",
    "* duplicate keys not allowed (*)\n",
    "\n",
    "* \"value\" can have a mixture of datatypes\n",
    "\n",
    "* everything is case sensitive\n",
    "\n",
    "Predict output of the following code:"
   ]
  },
  {
   "cell_type": "code",
   "execution_count": null,
   "metadata": {},
   "outputs": [],
   "source": [
    "customer = {\n",
    "    \"name\": \"John Smith\",\n",
    "    \"age\": 31,\n",
    "    \"is_verified\": True\n",
    "}\n",
    "print(\"------------------------------------------\")\n",
    "print(\"Accessing values from dictionary: \")\n",
    "print(customer[\"age\"])  # if key does not exist, it gives ERROR\n",
    "print(customer.get(\"age\"))  # if key does not exist, it gives NONE objects\n",
    "print(\"------------------------------------------\")\n",
    "print(\"You can supply default value in case key does not exist: \")\n",
    "print(customer.get(\"birthdate\", \"30/9/2002\"))  # you can supply default value in case key does not exist\n",
    "print(\"However, supplying a default value does not create a new key. The dictionary remains unchanged: \")\n",
    "print(customer)  # no \"birthdate\" key\n",
    "print(\"------------------------------------------\")\n",
    "print(\"Modifying values: \")\n",
    "customer[\"name\"] = \"Aum Patil\"\n",
    "print(customer)\n",
    "print(\"------------------------------------------\")\n",
    "print(\"Creating new key-value pairs: \")\n",
    "customer[\"location\"] = \"Pune\"  # creating new keys\n",
    "print(customer)\n",
    "print(\"------------------------------------------\")"
   ]
  },
  {
   "cell_type": "markdown",
   "metadata": {},
   "source": [
    "# Practice: phone number program\n",
    "\n",
    "Write a program for the following sample output:\n",
    "\n",
    "```\n",
    "Enter phone number: 9405988940\n",
    "In words = nine four zero five nine eight eight nine four zero \n",
    "End of code \n",
    "```\n",
    "\n",
    "Solution:"
   ]
  },
  {
   "cell_type": "code",
   "execution_count": null,
   "metadata": {},
   "outputs": [],
   "source": [
    "def in_words(phone_number):\n",
    "    spellings = {\n",
    "        \"0\": \"zero\",\n",
    "        \"1\": \"one\",\n",
    "        \"2\": \"two\",\n",
    "        \"3\": \"three\",\n",
    "        \"4\": \"four\",\n",
    "        \"5\": \"five\",\n",
    "        \"6\": \"six\",\n",
    "        \"7\": \"seven\",\n",
    "        \"8\": \"eight\",\n",
    "        \"9\": \"nine\"\n",
    "    }\n",
    "    output_string = \"\"\n",
    "    for number in phone_number:\n",
    "        output_string = output_string + spellings.get(number) + \" \"\n",
    "    return output_string\n",
    "\n",
    "phone_number = input(\"Enter phone number: \")\n",
    "output_string = in_words(phone_number)\n",
    "print(f\"In words = {output_string}\")\n",
    "print(\"End of code\")"
   ]
  },
  {
   "cell_type": "markdown",
   "metadata": {},
   "source": [
    "# Practice: emoji formatter\n",
    "\n",
    "Write a program for the following sample outputs:\n",
    "\n",
    "Output 1:\n",
    "\n",
    "```\n",
    "NOTE: Use only alphanumerics or spaces.\n",
    "Enter text: I am sad today :(\n",
    "Formatted text: I am sad today 😔\n",
    "```\n",
    "\n",
    "Output 2:\n",
    "\n",
    "```\n",
    "NOTE: Use only alphanumerics or spaces.\n",
    "Enter text: I am happy today :)\n",
    "Formatted text: I am happy today 😄\n",
    "```\n",
    "\n",
    "Output 3:\n",
    "\n",
    "```\n",
    "NOTE: Use only alphanumerics or spaces.\n",
    "Enter text: I am having mood swings today :( :)\n",
    "Formatted text: I am having mood swings today 😔 😄\n",
    "```\n",
    "\n",
    "Solution:"
   ]
  },
  {
   "cell_type": "code",
   "execution_count": null,
   "metadata": {},
   "outputs": [],
   "source": [
    "print(\"NOTE: Use only alphanumerics or spaces.\")\n",
    "message = input(\"Enter text: \")\n",
    "words = message.split(\" \")\n",
    "emojis = {\n",
    "    \":)\": \"😄\",\n",
    "    \":(\": \"😔\",\n",
    "}\n",
    "formatted_text = \"\"  # to be printed at the end\n",
    "for word in words:\n",
    "    formatted_text += f\"{emojis.get(word, word)} \"\n",
    "print(f\"Formatted text: {formatted_text}\")"
   ]
  },
  {
   "cell_type": "markdown",
   "metadata": {},
   "source": [
    "---"
   ]
  },
  {
   "cell_type": "markdown",
   "metadata": {},
   "source": [
    "# Functions\n",
    "\n",
    "* reusable container for a few lines of code to perform a specific task\n",
    "\n",
    "* purpose: reusability, organization, debugging, readability\n",
    "\n",
    "* function names: `snake_case`\n",
    "\n",
    "* define your functions before calling them in the code (because python is an interpreted language)"
   ]
  },
  {
   "cell_type": "markdown",
   "metadata": {},
   "source": [
    "# Parameters\n",
    "\n",
    "* parameters are **local** to the function **scope** (btw, only a function has a \"local scope\" by traditional definitions.)\n",
    "\n",
    "* **parameters** --> placeholders in the *function definition*\n",
    "\n",
    "* **arguments** --> actual values passed to the function during the *function call*, which become the function parameters."
   ]
  },
  {
   "cell_type": "markdown",
   "metadata": {},
   "source": [
    "# Keyword arguments\n",
    "\n",
    "* **positional arguments**--> position/order matters\n",
    "\n",
    "* **keyword arguments** --> position/order does not matter\n",
    "\n",
    "    * assignment (`=` operator) of **arguments** to **parameters** during function **call**\n",
    "\n",
    "    * helps in readability of code during function call (especially when arguments being passed are numbers which don't make any meaningful sense while reading the code)\n",
    "\n",
    "    * keyword arguments MUST always come AFTER positional arguments during the function call\n",
    "\n",
    "Predict output of the following code:"
   ]
  },
  {
   "cell_type": "code",
   "execution_count": null,
   "metadata": {},
   "outputs": [],
   "source": [
    "def greet_user(first_name, last_name):\n",
    "    print(f\"Hi, {first_name} {last_name}!\")\n",
    "    print(\"Welcome aboard!\")\n",
    "\n",
    "\n",
    "print(\"Start\")\n",
    "greet_user(last_name=\"Smith\", first_name=\"John\")\n",
    "print(\"End\")"
   ]
  },
  {
   "cell_type": "markdown",
   "metadata": {},
   "source": [
    "# Return statement\n",
    "\n",
    "* to return values to callers of functions\n",
    "\n",
    "* you can use `return None` to explicitly specify that the function does not return anything (although if you don't specify, it will return `None` anyway)"
   ]
  },
  {
   "cell_type": "markdown",
   "metadata": {},
   "source": [
    "# Creating a reusable function\n",
    "\n",
    "* Convert the emoji formatter program into a reusable function for practice.\n",
    "\n",
    "* Generally, the input and the print statements should NOT be written inside function definition to preserve the reusability of code."
   ]
  },
  {
   "cell_type": "markdown",
   "metadata": {},
   "source": [
    "---"
   ]
  },
  {
   "cell_type": "markdown",
   "metadata": {},
   "source": [
    "# Exceptions\n",
    "\n",
    "* exit code 0 --> successfully executed the code without any errors.\n",
    "\n",
    "* anything other than 0 --> program crashed.\n",
    "\n",
    "* We use try and except keywords for exception handing. See the following program and try to predict output:"
   ]
  },
  {
   "cell_type": "code",
   "execution_count": null,
   "metadata": {},
   "outputs": [],
   "source": [
    "try:\n",
    "    age = int(input(\"Enter age: \")) # raises ValueError if user enters text or characters\n",
    "    print(f\"Hi, your age is {age} years old.\")\n",
    "except ValueError:\n",
    "    print(\"Invalid value entered.\")"
   ]
  },
  {
   "cell_type": "markdown",
   "metadata": {},
   "source": [
    "Output1:\n",
    "\n",
    "```\n",
    "Enter age: 20\n",
    "Hi, your age is 20 years old.\n",
    "```\n",
    "\n",
    "Output2:\n",
    "\n",
    "```\n",
    "Enter age: twenty\n",
    "Invalid value entered.\n",
    "```\n",
    "\n",
    "Note that `ValueError` is a class of exceptions."
   ]
  },
  {
   "cell_type": "markdown",
   "metadata": {},
   "source": [
    "# Practice: ZeroDivisionError and handling multiple possible exceptions\n",
    "\n",
    "Code:"
   ]
  },
  {
   "cell_type": "code",
   "execution_count": null,
   "metadata": {},
   "outputs": [],
   "source": [
    "try:\n",
    "    age = int(input(\"Enter age: \")) # raises ValueError if user enters text or characters\n",
    "    print(f\"Hi, your age is {age} years old.\")\n",
    "    income = 20000\n",
    "    risk = income/age\n",
    "\n",
    "except ValueError:\n",
    "    print(\"Invalid value entered.\")\n",
    "    \n",
    "except ZeroDivisionError:\n",
    "    print(\"Age cannot be zero.\")"
   ]
  },
  {
   "cell_type": "markdown",
   "metadata": {},
   "source": [
    "Output 1:\n",
    "\n",
    "```\n",
    "Enter age: zero\n",
    "Invalid value entered.\n",
    "```\n",
    "\n",
    "Output 2:\n",
    "\n",
    "```\n",
    "Enter age: 0\n",
    "Hi, your age is 0 years old.\n",
    "Age cannot be zero.\n",
    "```"
   ]
  },
  {
   "cell_type": "markdown",
   "metadata": {},
   "source": [
    "If you did not know exactly what possible errors might be thrown, then you can use except without explicitly specifying the error name:\n",
    "\n",
    "Code:"
   ]
  },
  {
   "cell_type": "code",
   "execution_count": null,
   "metadata": {},
   "outputs": [],
   "source": [
    "try:\n",
    "    age = int(input(\"Enter age: \")) # raises ValueError if user enters text or characters\n",
    "    print(f\"Hi, your age is {age} years old.\")\n",
    "    income = 20000\n",
    "    risk = income/age\n",
    "\n",
    "except:\n",
    "    print(\"<Some random message>\")"
   ]
  },
  {
   "cell_type": "markdown",
   "metadata": {},
   "source": [
    "Output 1:\n",
    "\n",
    "```\n",
    "Enter age: 20\n",
    "Hi, your age is 20 years old.\n",
    "```\n",
    "\n",
    "Output 2:\n",
    "\n",
    "```\n",
    "Enter age: twenty\n",
    "<Some random message>\n",
    "```\n",
    "\n",
    "Output 3:\n",
    "\n",
    "```\n",
    "Enter age: 0\n",
    "Hi, your age is 0 years old.\n",
    "<Some random message>\n",
    "```"
   ]
  },
  {
   "cell_type": "markdown",
   "metadata": {},
   "source": [
    "---"
   ]
  },
  {
   "cell_type": "markdown",
   "metadata": {},
   "source": [
    "# Comments\n",
    "\n",
    "* use them sparingly as comments might become outdated when you update your code, and updating comments is a lot of work.\n",
    "\n",
    "* don't use comments for obvious code\n",
    "\n",
    "* use comments for WHYs and HOWs but not for WHATs"
   ]
  },
  {
   "cell_type": "markdown",
   "metadata": {},
   "source": [
    "---"
   ]
  },
  {
   "cell_type": "markdown",
   "metadata": {},
   "source": [
    "# Classes\n",
    "\n",
    "* basic python types are numbers, strings, etc.\n",
    "\n",
    "* classes are used to define our own types which are more relevant to the real world (and generally more complex than the inbuilt types.)\n",
    "\n",
    "* class names --> `PascalCase`\n",
    "\n",
    "* Functions inside a class definition are known as **methods**.\n",
    "\n",
    "* Variable of an object are called as **attributes**.\n",
    "\n",
    "* There is not such thing as \"variables of a class\" (*as you call it*) in python.\n",
    "\n",
    "* Make sure to pass `self` as an argument  to your methods irrespective of whether your method takes any arguments or not."
   ]
  },
  {
   "cell_type": "markdown",
   "metadata": {},
   "source": [
    "Predict output:"
   ]
  },
  {
   "cell_type": "code",
   "execution_count": null,
   "metadata": {},
   "outputs": [],
   "source": [
    "# creating a class\n",
    "class Point:\n",
    "    def hello(self):\n",
    "        print(\"Hello\")\n",
    "    def world(self):\n",
    "        print(\"World\")\n",
    "\n",
    "\n",
    "point1 = Point() # creating object of Point class\n",
    "point1.x = 10 # x is an attribute of point1\n",
    "point1.y = 20 # y is an attribute of point2\n",
    "print(point1.x, point1.y)\n",
    "point1.hello()\n",
    "point1.world()\n",
    "\n",
    "point2 = Point()\n",
    "point2.x = 69 # x is an attribute of point1\n",
    "point2.y = 70 # y is an attribute of point2\n",
    "print(point2.x, point2.y)\n",
    "point2.hello()\n",
    "point2.world()"
   ]
  },
  {
   "cell_type": "markdown",
   "metadata": {},
   "source": [
    "---"
   ]
  },
  {
   "cell_type": "markdown",
   "metadata": {},
   "source": [
    "# Constructors\n",
    "\n",
    "* `__init__()` is the method that gets called when we create an object of a class. This method is known as the **constructor**.\n",
    "\n",
    "* The `self` keyword is a reference to the current object.\n",
    "\n",
    "    * similar to `this` in Java\n",
    "\n",
    "    * inside the class definition, always use `self.<whatever>` while referring to the object variables.\n",
    "\n",
    "Predict output:"
   ]
  },
  {
   "cell_type": "code",
   "execution_count": null,
   "metadata": {},
   "outputs": [],
   "source": [
    "class Point:\n",
    "    def hello(self):\n",
    "        print(\"hello\")\n",
    "    \n",
    "    def world(self):\n",
    "        print(\"world\")\n",
    "    \n",
    "    def __init__(self, apple, banana): # constructor\n",
    "        self.x = apple # using the self keyword is necessary\n",
    "        self.y = banana # using the self keyword is necessary\n",
    "\n",
    "point1 = Point(13, 23) # you can supply positional arguments\n",
    "print(point1.x, point1.y)\n",
    "\n",
    "point2 = Point(banana=51, apple=16) # or you can supply keyword arguments\n",
    "print(point2.x, point2.y)\n",
    "\n",
    "point3 = Point(69, 69)\n",
    "point3.x = 100 # modifying attributes of an object\n",
    "point3.y = 100 # modifying attributes of an object\n",
    "print(point3.x, point3.y)"
   ]
  },
  {
   "cell_type": "markdown",
   "metadata": {},
   "source": [
    "---"
   ]
  },
  {
   "cell_type": "markdown",
   "metadata": {},
   "source": [
    "# An observation I made regarding functions and the `self` keyword\n",
    "\n",
    "* If you want to define a function (outside a class definition) which does not take any arguments, then do not write anything inside `()` brackets in the function definition.\n",
    "\n",
    "* If you want to define a method (inside a class definition) which does not take any arguments, then write ONLY the `self` keyword inside `()` brackets in the function definition.\n",
    "\n",
    "* A class does not \"have\" variables (*as you call it*). Only an **object** of the class can \"have\" variables. This is the reason why it is compulsory to use `self.<variableName>` while referring to **attributes** (i.e., variables of objects). `self` indicates that we are referring to the current object."
   ]
  },
  {
   "cell_type": "markdown",
   "metadata": {},
   "source": [
    "---"
   ]
  },
  {
   "cell_type": "markdown",
   "metadata": {},
   "source": [
    "# An observation I made regarding variable scope in python\n",
    "\n",
    "Consider the following 3 code snippets.\n",
    "\n",
    "Snippet1:"
   ]
  },
  {
   "cell_type": "code",
   "execution_count": null,
   "metadata": {},
   "outputs": [],
   "source": [
    "def my_function():\n",
    "    element = 5\n",
    "    print(\"Hello world\")\n",
    "    return None\n",
    "\n",
    "print(\"Start\")\n",
    "print(element) # you cannot access variables defined inside a function\n",
    "print(\"End\")"
   ]
  },
  {
   "cell_type": "markdown",
   "metadata": {},
   "source": [
    "Snippet 2:"
   ]
  },
  {
   "cell_type": "code",
   "execution_count": null,
   "metadata": {},
   "outputs": [],
   "source": [
    "print(\"Start\")\n",
    "words = [\"hello\", \"world\", \"how\", \"are\", \"you\"]\n",
    "i = 0\n",
    "for word in words:\n",
    "    i += 1\n",
    "print(f\"Value of i is: {i}\")\n",
    "print(f\"Value of word is: {word}\") # you can access \"word\" even outside of the loop\n",
    "print(\"End of code\")"
   ]
  },
  {
   "cell_type": "markdown",
   "metadata": {},
   "source": [
    "Snippet 3:"
   ]
  },
  {
   "cell_type": "code",
   "execution_count": null,
   "metadata": {},
   "outputs": [],
   "source": [
    "fruits = [\"apple\", \"banana\", \"mango\"]\n",
    "fruit = \"mango\"\n",
    "if fruit in fruits:\n",
    "    my_var = 23\n",
    "\n",
    "print(f\"my_var = {my_var}\") # you can access \"my_var\" outside of the IF scope"
   ]
  },
  {
   "attachments": {},
   "cell_type": "markdown",
   "metadata": {},
   "source": [
    "### My point being...\n",
    "\n",
    "What this means is that any variable that is defined in the global space (no matter if in a LOOP or in an IF statement) is stored in the memory.\n",
    "\n",
    "This is unlike C/C++/Java, where the scope of any variable is restricted by curly braces {...}\n",
    "\n",
    "So, in a way, I'm saying that only the functions \"have scope\" in python. You feel me?\n",
    "\n",
    "Relevant reading: https://stackoverflow.com/questions/3611760/scoping-in-python-for-loops"
   ]
  },
  {
   "cell_type": "markdown",
   "metadata": {},
   "source": [
    "---"
   ]
  },
  {
   "cell_type": "markdown",
   "metadata": {},
   "source": [
    "# Practice: classes\n",
    "\n",
    "Code:"
   ]
  },
  {
   "cell_type": "code",
   "execution_count": null,
   "metadata": {},
   "outputs": [],
   "source": [
    "class Person:\n",
    "\n",
    "    def __init__(self, name):\n",
    "        self.name = name\n",
    "    \n",
    "    def talk(self):\n",
    "        print(f\"Hi, I am {self.name}\")\n",
    "    \n",
    "aum = Person(name = \"Aum Patil\") # used keyword argument for readability\n",
    "print(f\"{aum.name} is talking.\")\n",
    "aum.talk()\n",
    "print(\"End of code\")"
   ]
  },
  {
   "cell_type": "markdown",
   "metadata": {},
   "source": [
    "---"
   ]
  },
  {
   "cell_type": "markdown",
   "metadata": {},
   "source": [
    "# Inheritance\n",
    "\n",
    "* aim of inheritence is to NOT define something again and again\n",
    "\n",
    "* Example:"
   ]
  },
  {
   "cell_type": "code",
   "execution_count": null,
   "metadata": {},
   "outputs": [],
   "source": [
    "class Dog:\n",
    "    def walk(self):\n",
    "        print(\"Walk\")\n",
    "\n",
    "class Cat:\n",
    "    def walk(self):\n",
    "        print(\"Walk\")"
   ]
  },
  {
   "cell_type": "markdown",
   "metadata": {},
   "source": [
    "Code:"
   ]
  },
  {
   "cell_type": "code",
   "execution_count": null,
   "metadata": {},
   "outputs": [],
   "source": [
    "class Mammal:\n",
    "    def talk(self):\n",
    "        print(\"Hello, I am a mammal\")\n",
    "    \n",
    "class Dog(Mammal):\n",
    "    def bark(self):\n",
    "        print(\"BARK BARK\")\n",
    "\n",
    "class Cat(Mammal):\n",
    "    def meow(self):\n",
    "        print(\"MEOW MEOW\")\n",
    "\n",
    "class Elephant(Mammal):\n",
    "    pass\n",
    "    # pass keyword is used in cases where you don't wanna write any code, but empty code is not allowed.\n",
    "    # for example: in class definitions, body of  if/else and function definitions\n",
    "\n",
    "print(\"Start\")\n",
    "\n",
    "dog1 = Dog()\n",
    "cat1 = Cat()\n",
    "dog1.talk()\n",
    "cat1.talk()\n",
    "dog1.bark()\n",
    "cat1.meow()\n",
    "\n",
    "phanta = Elephant()\n",
    "phanta.talk()\n",
    "\n",
    "print(\"End of code\")"
   ]
  },
  {
   "cell_type": "markdown",
   "metadata": {},
   "source": [
    "---"
   ]
  },
  {
   "cell_type": "markdown",
   "metadata": {},
   "source": [
    "# Modules\n",
    "\n",
    "* module = a file with some code in it\n",
    "\n",
    "* instead of writing all functions and classes in a single file, we can add modularity by breaking code into modules (files)\n",
    "\n",
    "* `import` keyword to import a module\n",
    "\n",
    "* You can use the `from` keyword to import a specific function and use if **as if** it were **defined** in this file.\n",
    "\n",
    "* use `as` keyword for short aliases\n",
    "\n",
    "* functions, classes and modules are a great way of staying organized"
   ]
  },
  {
   "cell_type": "markdown",
   "metadata": {},
   "source": [
    "Consider 2 files, `main.py` and `conversions.py`."
   ]
  },
  {
   "cell_type": "code",
   "execution_count": null,
   "metadata": {},
   "outputs": [],
   "source": [
    "# conversions.py\n",
    "\n",
    "def dollar_to_rupee(dollar):\n",
    "    rupee = dollar * 81\n",
    "    return rupee\n",
    "\n",
    "def rupee_to_dollar(rupee):\n",
    "    dollar = rupee / 81\n",
    "    return dollar\n",
    "\n",
    "def lai_bhaari():\n",
    "    print(\"YO\")"
   ]
  },
  {
   "cell_type": "code",
   "execution_count": null,
   "metadata": {},
   "outputs": [],
   "source": [
    "# main.py\n",
    "# you cannot run this code block\n",
    "\n",
    "import conversions\n",
    "from conversions import lai_bhaari\n",
    "\n",
    "print(conversions.dollar_to_rupee(1))\n",
    "print(conversions.rupee_to_dollar(120))\n",
    "\n",
    "lai_bhaari()\n",
    "conversions.lai_bhaari() # works the same as the previous line"
   ]
  },
  {
   "cell_type": "markdown",
   "metadata": {},
   "source": [
    "Output:\n",
    "\n",
    "```\n",
    "81\n",
    "1.4814814814814814\n",
    "YO\n",
    "YO\n",
    "```"
   ]
  },
  {
   "cell_type": "markdown",
   "metadata": {},
   "source": [
    "---"
   ]
  },
  {
   "attachments": {},
   "cell_type": "markdown",
   "metadata": {},
   "source": [
    "# Packages\n",
    "\n",
    "* a package is a container (folder) for multiple modules\n",
    "\n",
    "* you can put related modules in a package\n",
    "\n",
    "* to define a folder as a python package, you need to create a special empty file inside that folder with filename as: `__init__.py`.\n",
    "\n",
    "* sometimes when you modify/add/remove some files inside a package, you gotta delete the old `__init__.py` file and create a new one. I think this is a glitch maybe, so heads up.\n",
    "\n",
    "* importing:\n",
    "\n",
    "```py\n",
    "from package.module import function as alias\n",
    "```\n",
    "\n",
    "* Sometimes you might get the `ModuleNotFoundError` while using the `import` keyword. Refer to [this](https://stackoverflow.com/questions/61532337/python-modulenotfounderror-no-module-named) question."
   ]
  },
  {
   "cell_type": "markdown",
   "metadata": {},
   "source": [
    "---"
   ]
  },
  {
   "cell_type": "markdown",
   "metadata": {},
   "source": [
    "# Generating random values\n",
    "\n",
    "* use the random module\n",
    "\n",
    "* Google: \"python 3 module index\""
   ]
  },
  {
   "cell_type": "markdown",
   "metadata": {},
   "source": [
    "Code:"
   ]
  },
  {
   "cell_type": "code",
   "execution_count": null,
   "metadata": {},
   "outputs": [],
   "source": [
    "import random\n",
    "\n",
    "for i in range(10):\n",
    "    print(random.randint(0, 9))\n",
    "\n",
    "team = [\"josh\", \"mary\", \"george\", \"bob\", \"mosh\", \"aum\"]\n",
    "print(f\"Team leader is {random.choice(team)}\")\n",
    "\n",
    "input(\"Press enter to roll the dice: \")\n",
    "print(f\"{random.randint(1, 6)}\")"
   ]
  },
  {
   "cell_type": "markdown",
   "metadata": {},
   "source": [
    "---"
   ]
  },
  {
   "cell_type": "markdown",
   "metadata": {},
   "source": [
    "# An observation i made regarding functions in python\n",
    "\n",
    "Functions return tuples by default:"
   ]
  },
  {
   "cell_type": "code",
   "execution_count": null,
   "metadata": {},
   "outputs": [],
   "source": [
    "# python function can return multiple values at once.\n",
    "# If the function is not unpacked at the time of call, then all values are returned as a tuple\n",
    "\n",
    "def my_function():\n",
    "    a = 5\n",
    "    b = 6\n",
    "    c = \"Hello world\"\n",
    "    return a, b, c # if you use square brackets here, it returns as a list!\n",
    "\n",
    "x, y, z = my_function() # unpacked\n",
    "\n",
    "print(x, type(x))\n",
    "print(y, type(y))\n",
    "print(z, type(z))\n",
    "\n",
    "aum = my_function() # not unpacked\n",
    "print(aum, type(aum))\n",
    "aum = list(aum) # we can also typecast the tuple into a list. No problem.\n",
    "print(aum, type(aum))"
   ]
  },
  {
   "cell_type": "markdown",
   "metadata": {},
   "source": [
    "---"
   ]
  },
  {
   "cell_type": "markdown",
   "metadata": {},
   "source": [
    "# PyPI and pip\n",
    "\n",
    "* PyPI --> Python Package Index\n",
    "\n",
    "* pip --> package management system for downloading packages published to PyPI"
   ]
  },
  {
   "cell_type": "markdown",
   "metadata": {},
   "source": [
    "---"
   ]
  },
  {
   "attachments": {},
   "cell_type": "markdown",
   "metadata": {},
   "source": [
    "# Solve practice problems in python\n",
    "\n",
    "Go to [Coding Bat](https://codingbat.com/python). Great source for practicing python."
   ]
  },
  {
   "cell_type": "markdown",
   "metadata": {},
   "source": [
    "---"
   ]
  },
  {
   "attachments": {},
   "cell_type": "markdown",
   "metadata": {},
   "source": [
    "# New learnings\n",
    "\n",
    "From here onwards, I will note new things I learn regarding python.\n",
    "\n",
    "---"
   ]
  },
  {
   "attachments": {},
   "cell_type": "markdown",
   "metadata": {},
   "source": [
    "# Unreachable variables\n",
    "\n",
    "Before I explain, let us consider a set of only those variables which are NOT inside the scope of a function. Such variables will be the one which get declared anywhere inside your python module, but not inside a function definition.\n",
    "\n",
    "Now, during any **particular instance of execution**, if any of these variable declaration become a part of unreachable code, then these variables will **not** be stored in the memory, simply because the python interpreter did not come across the unreachable code, which had the variable, while interpreting the code line by line.\n",
    "\n",
    "In such a case, it gives error/warning:\n",
    "\n",
    "```\n",
    "Name ____ can be undefined.\n",
    "```"
   ]
  },
  {
   "attachments": {},
   "cell_type": "markdown",
   "metadata": {},
   "source": [
    "---"
   ]
  },
  {
   "attachments": {},
   "cell_type": "markdown",
   "metadata": {},
   "source": [
    "# Interesting stuff I found on the internet\n",
    "\n",
    "* %who magic command in Jupyter Notebook\n",
    "\n",
    "https://thecodingbot.com/who-magic-command-in-jupyter-notebook/\n",
    "\n",
    "* Top 10 Magic Commands in Python to Boost your Productivity\n",
    "\n",
    "https://towardsdatascience.com/top-10-magic-commands-in-python-to-boost-your-productivity-1acac061c7a9"
   ]
  },
  {
   "cell_type": "markdown",
   "metadata": {},
   "source": [
    "---"
   ]
  },
  {
   "attachments": {},
   "cell_type": "markdown",
   "metadata": {},
   "source": [
    "# `zip()` function in python\n",
    "\n",
    "* ***What it does:*** creates ordered pairs of corresponding elements in the iterables passed.\n",
    "\n",
    "* Syntax:\n",
    "\n",
    "```\n",
    "zip(iterable1, iterable2)\n",
    "```\n",
    "\n",
    "* Returns: `zip` object\n",
    "\n",
    "    * typecaste into `list` or `tuple` to see what's inside it\n"
   ]
  },
  {
   "attachments": {},
   "cell_type": "markdown",
   "metadata": {},
   "source": [
    "### Example"
   ]
  },
  {
   "cell_type": "code",
   "execution_count": 8,
   "metadata": {},
   "outputs": [
    {
     "data": {
      "text/plain": [
       "[('Aum', 'Patil'), ('Prajwal', 'SN')]"
      ]
     },
     "execution_count": 8,
     "metadata": {},
     "output_type": "execute_result"
    }
   ],
   "source": [
    "x = [\"Aum\", \"Prajwal\"]\n",
    "y = [\"Patil\", \"SN\"]\n",
    "list(zip(x, y))"
   ]
  },
  {
   "cell_type": "code",
   "execution_count": 9,
   "metadata": {},
   "outputs": [
    {
     "data": {
      "text/plain": [
       "[('Patil', 'Aum'), ('SN', 'Prajwal')]"
      ]
     },
     "execution_count": 9,
     "metadata": {},
     "output_type": "execute_result"
    }
   ],
   "source": [
    "list(zip(y, x))"
   ]
  },
  {
   "attachments": {},
   "cell_type": "markdown",
   "metadata": {},
   "source": [
    "### Example\n",
    "\n",
    "If length of the iterables are not equal, then the number of resultant zipped pairs depends on the iterable with the smallest length."
   ]
  },
  {
   "cell_type": "code",
   "execution_count": 11,
   "metadata": {},
   "outputs": [
    {
     "data": {
      "text/plain": [
       "((69, 'apple'), (100, 'banana'))"
      ]
     },
     "execution_count": 11,
     "metadata": {},
     "output_type": "execute_result"
    }
   ],
   "source": [
    "x = [69, 100]\n",
    "y = [\"apple\", \"banana\", \"mango\", \"pineaple\", \"watermelon\", \"lichi\"]\n",
    "zip(x, y)\n",
    "tuple(zip(x, y))"
   ]
  },
  {
   "cell_type": "code",
   "execution_count": 12,
   "metadata": {},
   "outputs": [
    {
     "data": {
      "text/plain": [
       "(('apple', 69), ('banana', 100))"
      ]
     },
     "execution_count": 12,
     "metadata": {},
     "output_type": "execute_result"
    }
   ],
   "source": [
    "tuple(zip(y, x))"
   ]
  },
  {
   "attachments": {},
   "cell_type": "markdown",
   "metadata": {},
   "source": [
    "---"
   ]
  },
  {
   "attachments": {},
   "cell_type": "markdown",
   "metadata": {},
   "source": [
    "# Iterable, Ordered, Mutable, and Hashable Python Objects Explained\n",
    "\n",
    "https://towardsdatascience.com/iterable-ordered-mutable-and-hashable-python-objects-explained-1254c9b9e421#:~:text=A%20hashable%20Python%20object%20is,322818021289917443"
   ]
  },
  {
   "attachments": {},
   "cell_type": "markdown",
   "metadata": {},
   "source": [
    "---"
   ]
  },
  {
   "attachments": {},
   "cell_type": "markdown",
   "metadata": {},
   "source": [
    "# Q1. Diff. b/w numpy array and python list\n",
    "\n",
    "# Q2. Diff. b/w list comprehension and map() in python"
   ]
  }
 ],
 "metadata": {
  "kernelspec": {
   "display_name": "Python 3 (ipykernel)",
   "language": "python",
   "name": "python3"
  },
  "language_info": {
   "codemirror_mode": {
    "name": "ipython",
    "version": 3
   },
   "file_extension": ".py",
   "mimetype": "text/x-python",
   "name": "python",
   "nbconvert_exporter": "python",
   "pygments_lexer": "ipython3",
   "version": "3.11.2"
  }
 },
 "nbformat": 4,
 "nbformat_minor": 2
}
